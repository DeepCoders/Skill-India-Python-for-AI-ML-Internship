{
 "cells": [
  {
   "cell_type": "code",
   "execution_count": 16,
   "metadata": {},
   "outputs": [],
   "source": [
    "flag = 0\n",
    "trans = False"
   ]
  },
  {
   "cell_type": "markdown",
   "metadata": {
    "id": "R6NHgAYkxqSl"
   },
   "source": [
    "## Read Inventory"
   ]
  },
  {
   "cell_type": "code",
   "execution_count": 32,
   "metadata": {
    "id": "jkJT24jqug9n"
   },
   "outputs": [],
   "source": [
    "import json\n",
    "\n",
    "fd = open(\"record.json\",'r')\n",
    "data = fd.read()\n",
    "fd.close()\n",
    "\n",
    "products = json.loads(data)"
   ]
  },
  {
   "cell_type": "code",
   "execution_count": 33,
   "metadata": {
    "colab": {
     "base_uri": "https://localhost:8080/"
    },
    "id": "CcLYokrlus6z",
    "outputId": "525ffebc-7e32-463b-b0a4-2e6e9fc73f7c"
   },
   "outputs": [
    {
     "data": {
      "text/plain": [
       "{'1001': {'name': 'Vanilla Ice-Cream',\n",
       "  'quantity': 34,\n",
       "  'price': 100,\n",
       "  'brand': 'Vita',\n",
       "  'category': 'Food & Beverages'},\n",
       " '1002': {'name': 'Milk Cake',\n",
       "  'price': 800,\n",
       "  'quantity': 100,\n",
       "  'brand': 'Amul',\n",
       "  'category': 'Food & Beverages'},\n",
       " '1003': {'name': 'Drink',\n",
       "  'price': 85,\n",
       "  'quantity': 100,\n",
       "  'brand': 'Mountain Due',\n",
       "  'category': 'Food & Beverages'},\n",
       " '1004': {'name': 'Chocolate Ice-Cream',\n",
       "  'quantity': 295,\n",
       "  'price': 110,\n",
       "  'brand': 'Mother Dairy',\n",
       "  'category': 'Food & Beverages'},\n",
       " '1005': {'name': 'Pen',\n",
       "  'price': 20,\n",
       "  'quantity': 100,\n",
       "  'Brand': 'Trimax',\n",
       "  'category': 'Stationary'},\n",
       " '1006': {'name': 'Phone',\n",
       "  'price': 10000,\n",
       "  'quantity': 9,\n",
       "  'brand': 'Xiaomi',\n",
       "  'Category': 'Electronics'},\n",
       " '1007': {'name': 'LED TV',\n",
       "  'price': 1500,\n",
       "  'quantity': 35,\n",
       "  'brand': 'LG',\n",
       "  'category': 'Electronics'},\n",
       " '1008': {'name': 'Earbud',\n",
       "  'price': 3599,\n",
       "  'quantity': 49,\n",
       "  'brand': 'Boat',\n",
       "  'category': 'Electronics'},\n",
       " '1009': {'name': 'Keyboard',\n",
       "  'price': 1999,\n",
       "  'quantity': 9,\n",
       "  'brand': 'Gamidas',\n",
       "  'category': 'Electronics'},\n",
       " '1010': {'name': 'Basketball',\n",
       "  'price': 499,\n",
       "  'quantity': 56,\n",
       "  'brand': 'Cosco',\n",
       "  'category': 'Sports'},\n",
       " '1011': {'name': 'Video Game',\n",
       "  'price': 2000,\n",
       "  'quantity': 14,\n",
       "  'brand': 'Ubisoft',\n",
       "  'category': 'Electronics'},\n",
       " '1012': {'name': 'Pen-drive',\n",
       "  'price': 759,\n",
       "  'quantity': 996,\n",
       "  'brand': 'Sandisk',\n",
       "  'category': 'Electronics'},\n",
       " '1013': {'name': 'Headphone',\n",
       "  'price': 500,\n",
       "  'quantity': 102,\n",
       "  'brand': 'Sony',\n",
       "  'category': 'Electronics'},\n",
       " '1014': {'name': 'Hockey Stick',\n",
       "  'price': 1299,\n",
       "  'quantity': 15,\n",
       "  'brand': 'Franklin',\n",
       "  'category': 'Sports'},\n",
       " '1015': {'name': 'USB Cable',\n",
       "  'price': 199,\n",
       "  'quantity': 1202,\n",
       "  'brand': 'Vivo',\n",
       "  'category': 'Electronics'},\n",
       " '1016': {'name': 'Jeans',\n",
       "  'price': 1999,\n",
       "  'quantity': 100,\n",
       "  'brand': 'Duke',\n",
       "  'category': 'Fashion'},\n",
       " '1017': {'name': 'Noodles',\n",
       "  'price': 12,\n",
       "  'quantity': 2370,\n",
       "  'brand': 'Maggi',\n",
       "  'category': 'Food & Beverages'},\n",
       " '1018': {'name': 'Cycle',\n",
       "  'price': 6999,\n",
       "  'quantity': 18,\n",
       "  'brand': 'Atlas',\n",
       "  'category': 'Sports'},\n",
       " '1019': {'name': 'Smartwatch',\n",
       "  'price': 2200,\n",
       "  'quantity': 30,\n",
       "  'brand': 'Mi',\n",
       "  'category': 'Electronics'},\n",
       " '1020': {'name': 'Badminton Rackets',\n",
       "  'price': 999,\n",
       "  'quantity': 19,\n",
       "  'brand': 'Cosco',\n",
       "  'category': 'Sports'},\n",
       " '1021': {'name': 'Type-C USB Cable',\n",
       "  'price': 299,\n",
       "  'quantity': 22,\n",
       "  'brand': 'One Plus',\n",
       "  'category': 'Electronics'},\n",
       " '1022': {'name': 'Sweat Shirt',\n",
       "  'price': 1390,\n",
       "  'quantity': 36,\n",
       "  'brand': 'Van Heusen',\n",
       "  'category': 'Fashion'},\n",
       " '1023': {'name': 'Juicer Machine',\n",
       "  'price': 6999,\n",
       "  'quantity': 10,\n",
       "  'brand': 'Bajaj',\n",
       "  'category': 'Electronics'},\n",
       " '1024': {'name': 'Camera',\n",
       "  'price': 2999,\n",
       "  'quantity': 4,\n",
       "  'brand': 'Tp-Link',\n",
       "  'category': 'Electronics'},\n",
       " '1025': {'name': 'Mixer grinder',\n",
       "  'price': 4999,\n",
       "  'quantity': 4,\n",
       "  'brand': 'Bajaj',\n",
       "  'category': 'Electronics'},\n",
       " '1026': {'name': 'Door Bell',\n",
       "  'price': 6990,\n",
       "  'quantity': 4,\n",
       "  'brand': 'Qubo',\n",
       "  'category': 'Elecrtronics'},\n",
       " '1027': {'name': 'Oats',\n",
       "  'price': 75,\n",
       "  'quantity': 200,\n",
       "  'brand': 'Quaker',\n",
       "  'category': 'Food & Beverages'},\n",
       " '1028': {'name': 'Bucket',\n",
       "  'price': 299,\n",
       "  'quantity': 5,\n",
       "  'brand': 'Cello',\n",
       "  'category': 'Daily essentials'},\n",
       " '1029': {'name': 'Peanut Butter',\n",
       "  'price': 375,\n",
       "  'quantity': 90,\n",
       "  'brand': 'Pintola',\n",
       "  'category': 'Food & Beverages'},\n",
       " '1030': {'name': 'Wall Clock',\n",
       "  'price': 1999,\n",
       "  'quantity': 9,\n",
       "  'brand': 'Solimo',\n",
       "  'category': 'Home Decor'},\n",
       " '1031': {'name': 'Water Bottle',\n",
       "  'price': 399,\n",
       "  'quantity': 240,\n",
       "  'brand': 'Milton',\n",
       "  'category': 'Daily Essentials'},\n",
       " '1032': {'name': 'Crockery Set',\n",
       "  'price': 1999,\n",
       "  'quantity': 49,\n",
       "  'brand': 'Lotus',\n",
       "  'category': 'Home & Kitchen'},\n",
       " '1033': {'name': 'Noodles',\n",
       "  'price': 15,\n",
       "  'quantity': 0,\n",
       "  'brand': 'Knorr',\n",
       "  'category': 'Food & Beverages'},\n",
       " '1034': {'name': 'Milk',\n",
       "  'price': 55,\n",
       "  'quantity': 30,\n",
       "  'brand': 'Amul',\n",
       "  'category': 'Food & Beverages'}}"
      ]
     },
     "execution_count": 33,
     "metadata": {},
     "output_type": "execute_result"
    }
   ],
   "source": [
    "products"
   ]
  },
  {
   "cell_type": "markdown",
   "metadata": {
    "id": "WI5f7HTuxwzb"
   },
   "source": [
    "## Purchase"
   ]
  },
  {
   "cell_type": "code",
   "execution_count": 19,
   "metadata": {
    "colab": {
     "base_uri": "https://localhost:8080/"
    },
    "id": "c4E4eIvyuth0",
    "outputId": "91896933-af33-4e3e-ad2b-478c1243c6a3"
   },
   "outputs": [
    {
     "name": "stdout",
     "output_type": "stream",
     "text": [
      "Enter the Product Id: 1033\n",
      "Enter the quantity: 8\n",
      "Enter the Customer name: Yogesh Mittal\n",
      "We're having only 5 units\n",
      "Press Y to Buy or N to not Buy\n",
      "Yes/No: Y\n",
      "\n",
      "\n",
      "*******************************************\n",
      "Product Id:  1033\n",
      "Product Name:  Noodles\n",
      "Customer Name:  Yogesh Mittal\n",
      "Price:  15\n",
      "Quantity:  5\n",
      "-------------------------------------------\n",
      "Billing Amount:  75\n",
      "*******************************************\n"
     ]
    }
   ],
   "source": [
    "prod_id  = str(input(\"Enter the Product Id: \"))\n",
    "prod_quant = int(input(\"Enter the quantity: \"))\n",
    "cust_name = str(input(\"Enter the Customer name: \"))\n",
    "\n",
    "if products[prod_id]['quantity'] == 0:\n",
    "    print(\"Sorry, Currently we are running out of Stock!!!\")\n",
    "elif products[prod_id]['quantity'] < prod_quant:\n",
    "    print(\"We're having only \" + str(products[prod_id]['quantity']) + \" units\")\n",
    "    print(\"Press Y to Buy or N to not Buy\")\n",
    "    inpt = str(input(\"Yes/No: \" ))\n",
    "    prod_quant = int(products[prod_id]['quantity'])\n",
    "\n",
    "if products[prod_id]['quantity'] >= prod_quant or inpt == 'Y':\n",
    "    print(\"\\n\")\n",
    "    print(\"*******************************************\")\n",
    "    print(\"Product Id: \", prod_id)\n",
    "    print(\"Product Name: \", products[prod_id]['name'])\n",
    "    print(\"Customer Name: \", cust_name)\n",
    "    print(\"Price: \", products[prod_id]['price'])\n",
    "    print(\"Quantity: \", prod_quant)\n",
    "    print(\"-------------------------------------------\")\n",
    "    print(\"Billing Amount: \", products[prod_id]['price'] * prod_quant)\n",
    "    print(\"*******************************************\")\n",
    "\n",
    "    products[prod_id]['quantity'] = products[prod_id]['quantity'] - prod_quant\n",
    "\n",
    "    trans = True\n",
    "    flag = 1"
   ]
  },
  {
   "cell_type": "markdown",
   "metadata": {
    "id": "3h8S8JBVx1_D"
   },
   "source": [
    "## Update Inventory after purchase"
   ]
  },
  {
   "cell_type": "code",
   "execution_count": 20,
   "metadata": {
    "id": "TO68fUvvwzXt"
   },
   "outputs": [],
   "source": [
    "updated_data = json.dumps(products)\n",
    "\n",
    "fd = open(\"record.json\",'w')\n",
    "fd.write(updated_data)\n",
    "fd.close()"
   ]
  },
  {
   "cell_type": "code",
   "execution_count": 21,
   "metadata": {},
   "outputs": [
    {
     "data": {
      "text/plain": [
       "{'1001': {'name': 'Vanilla Ice-Cream',\n",
       "  'quantity': 34,\n",
       "  'price': 100,\n",
       "  'brand': 'Vita',\n",
       "  'category': 'Food & Beverages'},\n",
       " '1002': {'name': 'Milk Cake',\n",
       "  'price': 800,\n",
       "  'quantity': 100,\n",
       "  'brand': 'Amul',\n",
       "  'category': 'Food & Beverages'},\n",
       " '1003': {'name': 'Drink',\n",
       "  'price': 85,\n",
       "  'quantity': 100,\n",
       "  'brand': 'Mountain Due',\n",
       "  'category': 'Food & Beverages'},\n",
       " '1004': {'name': 'Chocolate Ice-Cream',\n",
       "  'quantity': 295,\n",
       "  'price': 110,\n",
       "  'brand': 'Mother Dairy',\n",
       "  'category': 'Food & Beverages'},\n",
       " '1005': {'name': 'Pen',\n",
       "  'price': 20,\n",
       "  'quantity': 100,\n",
       "  'Brand': 'Trimax',\n",
       "  'category': 'Stationary'},\n",
       " '1006': {'name': 'Phone',\n",
       "  'price': 10000,\n",
       "  'quantity': 9,\n",
       "  'brand': 'Xiaomi',\n",
       "  'Category': 'Electronics'},\n",
       " '1007': {'name': 'LED TV',\n",
       "  'price': 1500,\n",
       "  'quantity': 35,\n",
       "  'brand': 'LG',\n",
       "  'category': 'Electronics'},\n",
       " '1008': {'name': 'Earbud',\n",
       "  'price': 3599,\n",
       "  'quantity': 49,\n",
       "  'brand': 'Boat',\n",
       "  'category': 'Electronics'},\n",
       " '1009': {'name': 'Keyboard',\n",
       "  'price': 1999,\n",
       "  'quantity': 9,\n",
       "  'brand': 'Gamidas',\n",
       "  'category': 'Electronics'},\n",
       " '1010': {'name': 'Basketball',\n",
       "  'price': 499,\n",
       "  'quantity': 56,\n",
       "  'brand': 'Cosco',\n",
       "  'category': 'Sports'},\n",
       " '1011': {'name': 'Video Game',\n",
       "  'price': 2000,\n",
       "  'quantity': 14,\n",
       "  'brand': 'Ubisoft',\n",
       "  'category': 'Electronics'},\n",
       " '1012': {'name': 'Pen-drive',\n",
       "  'price': 759,\n",
       "  'quantity': 996,\n",
       "  'brand': 'Sandisk',\n",
       "  'category': 'Electronics'},\n",
       " '1013': {'name': 'Headphone',\n",
       "  'price': 500,\n",
       "  'quantity': 102,\n",
       "  'brand': 'Sony',\n",
       "  'category': 'Electronics'},\n",
       " '1014': {'name': 'Hockey Stick',\n",
       "  'price': 1299,\n",
       "  'quantity': 15,\n",
       "  'brand': 'Franklin',\n",
       "  'category': 'Sports'},\n",
       " '1015': {'name': 'USB Cable',\n",
       "  'price': 199,\n",
       "  'quantity': 1202,\n",
       "  'brand': 'Vivo',\n",
       "  'category': 'Electronics'},\n",
       " '1016': {'name': 'Jeans',\n",
       "  'price': 1999,\n",
       "  'quantity': 100,\n",
       "  'brand': 'Duke',\n",
       "  'category': 'Fashion'},\n",
       " '1017': {'name': 'Noodles',\n",
       "  'price': 12,\n",
       "  'quantity': 2370,\n",
       "  'brand': 'Maggi',\n",
       "  'category': 'Food & Beverages'},\n",
       " '1018': {'name': 'Cycle',\n",
       "  'price': 6999,\n",
       "  'quantity': 18,\n",
       "  'brand': 'Atlas',\n",
       "  'category': 'Sports'},\n",
       " '1019': {'name': 'Smartwatch',\n",
       "  'price': 2200,\n",
       "  'quantity': 30,\n",
       "  'brand': 'Mi',\n",
       "  'category': 'Electronics'},\n",
       " '1020': {'name': 'Badminton Rackets',\n",
       "  'price': 999,\n",
       "  'quantity': 19,\n",
       "  'brand': 'Cosco',\n",
       "  'category': 'Sports'},\n",
       " '1021': {'name': 'Type-C USB Cable',\n",
       "  'price': 299,\n",
       "  'quantity': 22,\n",
       "  'brand': 'One Plus',\n",
       "  'category': 'Electronics'},\n",
       " '1022': {'name': 'Sweat Shirt',\n",
       "  'price': 1390,\n",
       "  'quantity': 36,\n",
       "  'brand': 'Van Heusen',\n",
       "  'category': 'Fashion'},\n",
       " '1023': {'name': 'Juicer Machine',\n",
       "  'price': 6999,\n",
       "  'quantity': 10,\n",
       "  'brand': 'Bajaj',\n",
       "  'category': 'Electronics'},\n",
       " '1024': {'name': 'Camera',\n",
       "  'price': 2999,\n",
       "  'quantity': 4,\n",
       "  'brand': 'Tp-Link',\n",
       "  'category': 'Electronics'},\n",
       " '1025': {'name': 'Mixer grinder',\n",
       "  'price': 4999,\n",
       "  'quantity': 4,\n",
       "  'brand': 'Bajaj',\n",
       "  'category': 'Electronics'},\n",
       " '1026': {'name': 'Door Bell',\n",
       "  'price': 6990,\n",
       "  'quantity': 4,\n",
       "  'brand': 'Qubo',\n",
       "  'category': 'Elecrtronics'},\n",
       " '1027': {'name': 'Oats',\n",
       "  'price': 75,\n",
       "  'quantity': 200,\n",
       "  'brand': 'Quaker',\n",
       "  'category': 'Food & Beverages'},\n",
       " '1028': {'name': 'Bucket',\n",
       "  'price': 299,\n",
       "  'quantity': 5,\n",
       "  'brand': 'Cello',\n",
       "  'category': 'Daily essentials'},\n",
       " '1029': {'name': 'Peanut Butter',\n",
       "  'price': 375,\n",
       "  'quantity': 90,\n",
       "  'brand': 'Pintola',\n",
       "  'category': 'Food & Beverages'},\n",
       " '1030': {'name': 'Wall Clock',\n",
       "  'price': 1999,\n",
       "  'quantity': 9,\n",
       "  'brand': 'Solimo',\n",
       "  'category': 'Home Decor'},\n",
       " '1031': {'name': 'Water Bottle',\n",
       "  'price': 399,\n",
       "  'quantity': 240,\n",
       "  'brand': 'Milton',\n",
       "  'category': 'Daily Essentials'},\n",
       " '1032': {'name': 'Crockery Set',\n",
       "  'price': 1999,\n",
       "  'quantity': 49,\n",
       "  'brand': 'Lotus',\n",
       "  'category': 'Home & Kitchen'},\n",
       " '1033': {'name': 'Noodles',\n",
       "  'price': 15,\n",
       "  'quantity': 0,\n",
       "  'brand': 'Knorr',\n",
       "  'category': 'Food & Beverages'},\n",
       " '1034': {'name': 'Milk',\n",
       "  'price': 55,\n",
       "  'quantity': 30,\n",
       "  'brand': 'Amul',\n",
       "  'category': 'Food & Beverages'}}"
      ]
     },
     "execution_count": 21,
     "metadata": {},
     "output_type": "execute_result"
    }
   ],
   "source": [
    "products"
   ]
  },
  {
   "cell_type": "markdown",
   "metadata": {},
   "source": [
    "## Current Transaction"
   ]
  },
  {
   "cell_type": "code",
   "execution_count": 27,
   "metadata": {
    "colab": {
     "base_uri": "https://localhost:8080/"
    },
    "id": "FwBezn_LxBV4",
    "outputId": "e1fb37d9-17c3-4cde-de23-4f9057e74203"
   },
   "outputs": [
    {
     "data": {
      "text/plain": [
       "{'prod_id': '1033',\n",
       " 'cust_name': 'Yogesh Mittal',\n",
       " 'quantity': 5,\n",
       " 'price': 15,\n",
       " 'amount': 75}"
      ]
     },
     "execution_count": 27,
     "metadata": {},
     "output_type": "execute_result"
    }
   ],
   "source": [
    "{'prod_id': prod_id, 'cust_name': cust_name, 'quantity' : prod_quant, 'price': products[prod_id]['price'], 'amount': products[prod_id]['price'] * prod_quant}"
   ]
  },
  {
   "cell_type": "markdown",
   "metadata": {
    "id": "pl_p5yDpyu_9"
   },
   "source": [
    "## Sales JSON"
   ]
  },
  {
   "cell_type": "code",
   "execution_count": 28,
   "metadata": {},
   "outputs": [],
   "source": [
    "fd = open(\"sales.json\",'r')\n",
    "data = fd.read()\n",
    "fd.close()\n",
    "\n",
    "sales = json.loads(data)"
   ]
  },
  {
   "cell_type": "code",
   "execution_count": 29,
   "metadata": {
    "id": "6R0kXinOyWbK"
   },
   "outputs": [],
   "source": [
    "if flag == 0 and trans == True:\n",
    "    sales = {'1' : {'prod_id' : prod_id, 'cust_name': cust_name, 'quantity' : prod_quant, 'price': products[prod_id]['price'], 'total_bill' : products[prod_id]['price'] * prod_quant}}\n",
    "    flag = 1\n",
    "    trans = False\n",
    "elif flag == 1 and trans == True:\n",
    "    sales[str(len(sales) + 1)] = {'prod_id' : prod_id, 'cust_name': cust_name, 'quantity' : prod_quant, 'price': products[prod_id]['price'], 'total_bill' : products[prod_id]['price'] * prod_quant}\n",
    "    trans = False\n"
   ]
  },
  {
   "cell_type": "markdown",
   "metadata": {},
   "source": [
    "## Updating Sales Transaction after purchase"
   ]
  },
  {
   "cell_type": "code",
   "execution_count": 30,
   "metadata": {
    "colab": {
     "base_uri": "https://localhost:8080/",
     "height": 52
    },
    "id": "LRbOdbiUycNe",
    "outputId": "d2f68e95-b223-4d6b-f3f0-155466fc18a0"
   },
   "outputs": [],
   "source": [
    "sale = json.dumps(sales)\n",
    "\n",
    "fd = open(\"sales.json\",'w')\n",
    "fd.write(sale)\n",
    "fd.close()"
   ]
  },
  {
   "cell_type": "markdown",
   "metadata": {},
   "source": [
    "## Display all Transactions"
   ]
  },
  {
   "cell_type": "code",
   "execution_count": 31,
   "metadata": {},
   "outputs": [
    {
     "data": {
      "text/plain": [
       "{'1': {'prod_id': '1012',\n",
       "  'cust_name': 'Rohan Gupta',\n",
       "  'quantity': 2,\n",
       "  'price': 759,\n",
       "  'total_bill': 1518},\n",
       " '2': {'prod_id': '1015',\n",
       "  'cust_name': 'Ashish',\n",
       "  'quantity': 1,\n",
       "  'price': 199,\n",
       "  'total_bill': 199},\n",
       " '3': {'prod_id': '1017',\n",
       "  'cust_name': 'Harshit',\n",
       "  'quantity': 10,\n",
       "  'price': 12,\n",
       "  'total_bill': 120},\n",
       " '4': {'prod_id': '1020',\n",
       "  'cust_name': 'Ajit Singh',\n",
       "  'quantity': 1,\n",
       "  'price': 999,\n",
       "  'total_bill': 999},\n",
       " '5': {'prod_id': '1006',\n",
       "  'cust_name': 'Arun Singla',\n",
       "  'quantity': 1,\n",
       "  'price': 10000,\n",
       "  'total_bill': 10000},\n",
       " '6': {'prod_id': '1022',\n",
       "  'cust_name': 'Himanshu Nagar',\n",
       "  'quantity': 2,\n",
       "  'price': 1390,\n",
       "  'total_bill': 2780},\n",
       " '7': {'prod_id': '1024',\n",
       "  'cust_name': 'Siddharth Rao',\n",
       "  'quantity': 1,\n",
       "  'price': 2999,\n",
       "  'total_bill': 2999},\n",
       " '8': {'prod_id': '1018',\n",
       "  'cust_name': 'Rakesh Sethi',\n",
       "  'quantity': 1,\n",
       "  'price': 6999,\n",
       "  'total_bill': 6999},\n",
       " '9': {'prod_id': '1021',\n",
       "  'cust_name': 'Arun Patel',\n",
       "  'quantity': 3,\n",
       "  'price': 299,\n",
       "  'total_bill': 897},\n",
       " '10': {'prod_id': '1030',\n",
       "  'cust_name': 'Ajit Sharma',\n",
       "  'quantity': 1,\n",
       "  'price': 1999,\n",
       "  'total_bill': 1999},\n",
       " '11': {'prod_id': '1032',\n",
       "  'cust_name': 'Nitesh Yadav',\n",
       "  'quantity': 1,\n",
       "  'price': 1999,\n",
       "  'total_bill': 1999},\n",
       " '12': {'prod_id': '1031',\n",
       "  'cust_name': 'Vikas Gupta',\n",
       "  'quantity': 2,\n",
       "  'price': 399,\n",
       "  'total_bill': 798},\n",
       " '13': {'prod_id': '1033',\n",
       "  'cust_name': 'Yogesh Mittal',\n",
       "  'quantity': 5,\n",
       "  'price': 15,\n",
       "  'total_bill': 75}}"
      ]
     },
     "execution_count": 31,
     "metadata": {},
     "output_type": "execute_result"
    }
   ],
   "source": [
    "sales"
   ]
  },
  {
   "cell_type": "code",
   "execution_count": null,
   "metadata": {},
   "outputs": [],
   "source": []
  }
 ],
 "metadata": {
  "colab": {
   "name": "Purchasing Products",
   "provenance": []
  },
  "kernelspec": {
   "display_name": "Python 3",
   "language": "python",
   "name": "python3"
  },
  "language_info": {
   "codemirror_mode": {
    "name": "ipython",
    "version": 3
   },
   "file_extension": ".py",
   "mimetype": "text/x-python",
   "name": "python",
   "nbconvert_exporter": "python",
   "pygments_lexer": "ipython3",
   "version": "3.7.6"
  }
 },
 "nbformat": 4,
 "nbformat_minor": 1
}
